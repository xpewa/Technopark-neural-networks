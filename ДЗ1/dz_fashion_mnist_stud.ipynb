{
 "cells": [
  {
   "cell_type": "code",
   "execution_count": null,
   "id": "5b81ff7a",
   "metadata": {},
   "outputs": [],
   "source": [
    "%matplotlib inline"
   ]
  },
  {
   "cell_type": "code",
   "execution_count": null,
   "id": "5df7a6f7",
   "metadata": {},
   "outputs": [],
   "source": [
    "import sklearn\n",
    "from sklearn.preprocessing import OneHotEncoder\n",
    "import numpy as np\n",
    "from matplotlib import pyplot as plt\n",
    "from tqdm.auto import tqdm\n",
    "from IPython.display import display, clear_output"
   ]
  },
  {
   "cell_type": "markdown",
   "id": "2732d2e2",
   "metadata": {},
   "source": [
    "Введем некоторые константы"
   ]
  },
  {
   "cell_type": "code",
   "execution_count": null,
   "id": "07cb8e7b",
   "metadata": {},
   "outputs": [],
   "source": [
    "NUM_LABELS = 10\n",
    "SEED = 42\n",
    "INPUT_DIR = \"./dz_data/splitted\" # путь до данных для обучения\n",
    "OUTPUT_FNAME = \"submission.csv\" # здесь должно быть записано имя выходного файла с ответами модели\n",
    "CLS_LIST = [\"T-shirt/top\", \"Trouser\", \"Pullover\", \"Dress\", \"Coat\", \"Sandal\", \"Shirt\", \"Sneaker\", \"Bag\", \"Ankle boot\"]"
   ]
  },
  {
   "cell_type": "markdown",
   "id": "5eaaf805",
   "metadata": {},
   "source": [
    "Загрузим данные для обучения и теста"
   ]
  },
  {
   "cell_type": "code",
   "execution_count": null,
   "id": "ddd660eb",
   "metadata": {},
   "outputs": [],
   "source": [
    "X_train = np.load(f\"{INPUT_DIR}/x_train.npy\")\n",
    "y_train = np.load(f\"{INPUT_DIR}/y_train.npy\")\n",
    "X_test = np.load(f\"{INPUT_DIR}/x_test.npy\")"
   ]
  },
  {
   "cell_type": "markdown",
   "id": "275248eb",
   "metadata": {},
   "source": [
    "Посмотрим, как выглядят наши данные"
   ]
  },
  {
   "cell_type": "code",
   "execution_count": null,
   "id": "4d99cbc0",
   "metadata": {},
   "outputs": [],
   "source": [
    "plt.figure(figsize=(8,8))\n",
    "np.random.seed(SEED)\n",
    "num_rc = 4\n",
    "for i in range(16):\n",
    "    idx = np.random.randint(X_train.shape[0])\n",
    "    ax = plt.subplot(num_rc, num_rc, i + 1)\n",
    "    ax.set_title(CLS_LIST[y_train[idx]])\n",
    "    ax.set_axis_off()\n",
    "    plt.imshow(X_train[idx].reshape(28,28), cmap='gray', vmin = 0, vmax = 255)"
   ]
  },
  {
   "cell_type": "markdown",
   "id": "5ffbef89",
   "metadata": {},
   "source": [
    "Разделим обучение на train и test"
   ]
  },
  {
   "cell_type": "code",
   "execution_count": null,
   "id": "ca2dfbbd",
   "metadata": {},
   "outputs": [],
   "source": [
    "# Необходимо дописать пайплайн разделения данных\n",
    "X_train, X_test, y_train, y_test # : PLACE FOR YOUR CODE :"
   ]
  },
  {
   "cell_type": "markdown",
   "id": "b6a32d50",
   "metadata": {},
   "source": [
    "Определим классы наших слоев"
   ]
  },
  {
   "cell_type": "code",
   "execution_count": null,
   "id": "c5070c03",
   "metadata": {},
   "outputs": [],
   "source": [
    "class Dense:\n",
    "    pass\n",
    "    # : PLACE FOR YOUR CODE :"
   ]
  },
  {
   "cell_type": "code",
   "execution_count": null,
   "id": "4c252935",
   "metadata": {},
   "outputs": [],
   "source": [
    "class ReLU:\n",
    "    pass\n",
    "    # : PLACE FOR YOUR CODE :"
   ]
  },
  {
   "cell_type": "code",
   "execution_count": null,
   "id": "357a80aa",
   "metadata": {},
   "outputs": [],
   "source": [
    "class Softmax:\n",
    "    pass\n",
    "    # : PLACE FOR YOUR CODE :"
   ]
  },
  {
   "cell_type": "code",
   "execution_count": null,
   "id": "5b6aeb26",
   "metadata": {},
   "outputs": [],
   "source": [
    "class CrossEntropy:\n",
    "    pass\n",
    "    # : PLACE FOR YOUR CODE :"
   ]
  },
  {
   "cell_type": "markdown",
   "id": "6bc0fefa",
   "metadata": {},
   "source": [
    "Соберем сеть для классификации изображений"
   ]
  },
  {
   "cell_type": "code",
   "execution_count": null,
   "id": "dd7d6a42",
   "metadata": {},
   "outputs": [],
   "source": [
    "class FashionMnistNet:\n",
    "    pass\n",
    "    # : PLACE FOR YOUR CODE :"
   ]
  },
  {
   "cell_type": "markdown",
   "id": "c8296ac2",
   "metadata": {},
   "source": [
    "Предобработаем наши данные"
   ]
  },
  {
   "cell_type": "code",
   "execution_count": null,
   "id": "38903ed5",
   "metadata": {},
   "outputs": [],
   "source": [
    "# тут необходимо дописать базовую предобработку датасета\n",
    "Xt_train_mod = ...\n",
    "Xt_test_mod = ...\n",
    "X_test_mod = ..."
   ]
  },
  {
   "cell_type": "code",
   "execution_count": null,
   "id": "fdbfe2cf",
   "metadata": {},
   "outputs": [],
   "source": [
    "# заэнкодим наши ответы\n",
    "t = OneHotEncoder(sparse=False)\n",
    "yt_train_oh = ...\n",
    "yt_test_oh = ..."
   ]
  },
  {
   "cell_type": "code",
   "execution_count": null,
   "id": "fd18ab40",
   "metadata": {},
   "outputs": [],
   "source": []
  },
  {
   "cell_type": "code",
   "execution_count": null,
   "id": "02c76b62",
   "metadata": {},
   "outputs": [],
   "source": [
    "np.random.seed(SEED)\n",
    "NUM_EPOCH = 100500\n",
    "lr = 0.1\n",
    "L_train_acc = [] # массив для хранения лоссов на обучении за эпоху\n",
    "L_test_acc = [] # массив для хранения лоссов на отложенном сете\n",
    "Acc_test_acc = [] # массив для хранения точности на отложенном сете за эпоху\n",
    "\n",
    "Acc_to_stop = 0.5\n",
    "\n",
    "for epoch in range(NUM_EPOCH):\n",
    "    # ЧАСТЬ 1:\n",
    "    # проводим эпоху обучения, сохраняем средний лосс по всем примерам за эпоху\n",
    "    # в переменной L_train_acc\n",
    "    \n",
    "    # : PLACE FOR YOUR CODE :\n",
    "    \n",
    "    # ЧАСТЬ 2:\n",
    "    # Оцениваем сеть после одной эпохи на отложенной выборке\n",
    "    # Сохраняем средний лосс в переменной L_test_acc\n",
    "    # Сохраняем среднее значение accuracy в Acc_test_acc\n",
    "    \n",
    "    # : PLACE FOR YOUR CODE :\n",
    "    \n",
    "    # Выводим 2 графика : \n",
    "    # 1) Лоссы на трейне и отложенном сете по эпохам\n",
    "    # 2) Точность(accuracy) по эпохам на отложенном сете\n",
    "    \n",
    "    # : PLACE FOR YOUR CODE :\n",
    "    \n",
    "    # заканичваем обучение, как достигли желаемого качества\n",
    "    if Acc_test_acc[-1] >= Acc_to_stop:\n",
    "        break"
   ]
  },
  {
   "cell_type": "code",
   "execution_count": null,
   "id": "cafadce0",
   "metadata": {},
   "outputs": [],
   "source": [
    "# формируем сабмишшен\n",
    "with open(OUTPUT_FNAME, 'w') as fout: \n",
    "    fout.write(\"Id,Category\\n\")\n",
    "    for i, x in tqdm(enumerate(X_test_mod)):\n",
    "        n_out = net.forward(x)\n",
    "        fout.write(f\"{i},{np.argmax(n_out, axis=0)}\\n\")"
   ]
  },
  {
   "cell_type": "code",
   "execution_count": null,
   "id": "82a70434",
   "metadata": {},
   "outputs": [],
   "source": []
  },
  {
   "cell_type": "code",
   "execution_count": null,
   "id": "ce14eb56",
   "metadata": {},
   "outputs": [],
   "source": []
  }
 ],
 "metadata": {
  "kernelspec": {
   "display_name": "Python 3",
   "language": "python",
   "name": "python3"
  },
  "language_info": {
   "codemirror_mode": {
    "name": "ipython",
    "version": 3
   },
   "file_extension": ".py",
   "mimetype": "text/x-python",
   "name": "python",
   "nbconvert_exporter": "python",
   "pygments_lexer": "ipython3",
   "version": "3.8.6"
  }
 },
 "nbformat": 4,
 "nbformat_minor": 5
}
