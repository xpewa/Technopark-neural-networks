{
 "cells": [
  {
   "cell_type": "code",
   "execution_count": 16,
   "id": "1fc461dd",
   "metadata": {},
   "outputs": [],
   "source": [
    "import torch\n",
    "import torch.nn as nn\n",
    "from torch.optim import Adam\n",
    "from torch.utils.data import DataLoader, Dataset\n",
    "from torch.utils.tensorboard import SummaryWriter\n",
    "import pandas as pd\n",
    "import os\n",
    "from tqdm import *\n",
    "import matplotlib.pyplot as plt\n",
    "from sklearn.metrics import mean_squared_error\n",
    "import pmdarima as pm\n",
    "import numpy as np\n",
    "%matplotlib inline"
   ]
  },
  {
   "cell_type": "code",
   "execution_count": 17,
   "id": "8c0557c6",
   "metadata": {},
   "outputs": [],
   "source": [
    "SEED = 42\n",
    "\n",
    "torch.manual_seed(SEED)\n",
    "np.random.seed(SEED)"
   ]
  },
  {
   "cell_type": "markdown",
   "id": "2822700e",
   "metadata": {},
   "source": [
    "# Готовим данные"
   ]
  },
  {
   "cell_type": "code",
   "execution_count": 18,
   "id": "b76c1966",
   "metadata": {},
   "outputs": [],
   "source": [
    "def read_set(file):\n",
    "    data = pd.read_csv(file)\n",
    "    data['date'] = pd.to_datetime(data['date'])\n",
    "    data = data.rename(columns = {'DATE':'date'})\n",
    "    data = data.rename(columns = {'hits':'value'})\n",
    "    data = data.set_index('date')\n",
    "    return data"
   ]
  },
  {
   "cell_type": "code",
   "execution_count": 19,
   "id": "2f83c9fb",
   "metadata": {},
   "outputs": [],
   "source": [
    "data_train = read_set('train.csv')\n",
    "data_test =  read_set('derived.csv')\n",
    "data_sample = read_set('sample_submission.csv')"
   ]
  },
  {
   "cell_type": "code",
   "execution_count": 20,
   "id": "0f5167a6",
   "metadata": {},
   "outputs": [
    {
     "name": "stdout",
     "output_type": "stream",
     "text": [
      "<class 'pandas.core.frame.DataFrame'>\n",
      "DatetimeIndex: 1096 entries, 2016-01-01 to 2018-12-31\n",
      "Data columns (total 1 columns):\n",
      " #   Column  Non-Null Count  Dtype\n",
      "---  ------  --------------  -----\n",
      " 0   value   1096 non-null   int64\n",
      "dtypes: int64(1)\n",
      "memory usage: 17.1 KB\n",
      "None\n",
      "<class 'pandas.core.frame.DataFrame'>\n",
      "DatetimeIndex: 365 entries, 2019-01-01 to 2019-12-31\n",
      "Data columns (total 1 columns):\n",
      " #   Column  Non-Null Count  Dtype\n",
      "---  ------  --------------  -----\n",
      " 0   value   365 non-null    int64\n",
      "dtypes: int64(1)\n",
      "memory usage: 5.7 KB\n",
      "None\n",
      "<class 'pandas.core.frame.DataFrame'>\n",
      "DatetimeIndex: 365 entries, 2019-01-01 to 2019-12-31\n",
      "Data columns (total 1 columns):\n",
      " #   Column  Non-Null Count  Dtype\n",
      "---  ------  --------------  -----\n",
      " 0   value   365 non-null    int64\n",
      "dtypes: int64(1)\n",
      "memory usage: 5.7 KB\n",
      "None\n"
     ]
    }
   ],
   "source": [
    "print( data_train.info() )\n",
    "print( data_test.info() )\n",
    "print( data_sample.info() )"
   ]
  },
  {
   "cell_type": "code",
   "execution_count": 21,
   "id": "59d93e2d",
   "metadata": {},
   "outputs": [
    {
     "data": {
      "text/html": [
       "<div>\n",
       "<style scoped>\n",
       "    .dataframe tbody tr th:only-of-type {\n",
       "        vertical-align: middle;\n",
       "    }\n",
       "\n",
       "    .dataframe tbody tr th {\n",
       "        vertical-align: top;\n",
       "    }\n",
       "\n",
       "    .dataframe thead th {\n",
       "        text-align: right;\n",
       "    }\n",
       "</style>\n",
       "<table border=\"1\" class=\"dataframe\">\n",
       "  <thead>\n",
       "    <tr style=\"text-align: right;\">\n",
       "      <th></th>\n",
       "      <th>value</th>\n",
       "    </tr>\n",
       "  </thead>\n",
       "  <tbody>\n",
       "    <tr>\n",
       "      <th>count</th>\n",
       "      <td>1.096000e+03</td>\n",
       "    </tr>\n",
       "    <tr>\n",
       "      <th>mean</th>\n",
       "      <td>2.792255e+08</td>\n",
       "    </tr>\n",
       "    <tr>\n",
       "      <th>std</th>\n",
       "      <td>7.677884e+07</td>\n",
       "    </tr>\n",
       "    <tr>\n",
       "      <th>min</th>\n",
       "      <td>1.103556e+08</td>\n",
       "    </tr>\n",
       "    <tr>\n",
       "      <th>25%</th>\n",
       "      <td>2.317301e+08</td>\n",
       "    </tr>\n",
       "    <tr>\n",
       "      <th>50%</th>\n",
       "      <td>2.791131e+08</td>\n",
       "    </tr>\n",
       "    <tr>\n",
       "      <th>75%</th>\n",
       "      <td>3.287730e+08</td>\n",
       "    </tr>\n",
       "    <tr>\n",
       "      <th>max</th>\n",
       "      <td>4.550733e+08</td>\n",
       "    </tr>\n",
       "  </tbody>\n",
       "</table>\n",
       "</div>"
      ],
      "text/plain": [
       "              value\n",
       "count  1.096000e+03\n",
       "mean   2.792255e+08\n",
       "std    7.677884e+07\n",
       "min    1.103556e+08\n",
       "25%    2.317301e+08\n",
       "50%    2.791131e+08\n",
       "75%    3.287730e+08\n",
       "max    4.550733e+08"
      ]
     },
     "execution_count": 21,
     "metadata": {},
     "output_type": "execute_result"
    }
   ],
   "source": [
    "data_train.describe()"
   ]
  },
  {
   "cell_type": "code",
   "execution_count": 22,
   "id": "ef66b44a",
   "metadata": {},
   "outputs": [
    {
     "data": {
      "text/html": [
       "<div>\n",
       "<style scoped>\n",
       "    .dataframe tbody tr th:only-of-type {\n",
       "        vertical-align: middle;\n",
       "    }\n",
       "\n",
       "    .dataframe tbody tr th {\n",
       "        vertical-align: top;\n",
       "    }\n",
       "\n",
       "    .dataframe thead th {\n",
       "        text-align: right;\n",
       "    }\n",
       "</style>\n",
       "<table border=\"1\" class=\"dataframe\">\n",
       "  <thead>\n",
       "    <tr style=\"text-align: right;\">\n",
       "      <th></th>\n",
       "      <th>value</th>\n",
       "    </tr>\n",
       "  </thead>\n",
       "  <tbody>\n",
       "    <tr>\n",
       "      <th>count</th>\n",
       "      <td>3.650000e+02</td>\n",
       "    </tr>\n",
       "    <tr>\n",
       "      <th>mean</th>\n",
       "      <td>2.250691e+08</td>\n",
       "    </tr>\n",
       "    <tr>\n",
       "      <th>std</th>\n",
       "      <td>6.798229e+07</td>\n",
       "    </tr>\n",
       "    <tr>\n",
       "      <th>min</th>\n",
       "      <td>1.055197e+08</td>\n",
       "    </tr>\n",
       "    <tr>\n",
       "      <th>25%</th>\n",
       "      <td>1.467913e+08</td>\n",
       "    </tr>\n",
       "    <tr>\n",
       "      <th>50%</th>\n",
       "      <td>2.525773e+08</td>\n",
       "    </tr>\n",
       "    <tr>\n",
       "      <th>75%</th>\n",
       "      <td>2.724223e+08</td>\n",
       "    </tr>\n",
       "    <tr>\n",
       "      <th>max</th>\n",
       "      <td>3.410300e+08</td>\n",
       "    </tr>\n",
       "  </tbody>\n",
       "</table>\n",
       "</div>"
      ],
      "text/plain": [
       "              value\n",
       "count  3.650000e+02\n",
       "mean   2.250691e+08\n",
       "std    6.798229e+07\n",
       "min    1.055197e+08\n",
       "25%    1.467913e+08\n",
       "50%    2.525773e+08\n",
       "75%    2.724223e+08\n",
       "max    3.410300e+08"
      ]
     },
     "execution_count": 22,
     "metadata": {},
     "output_type": "execute_result"
    }
   ],
   "source": [
    "data_test.describe()"
   ]
  },
  {
   "cell_type": "code",
   "execution_count": 23,
   "id": "c29ef7a7",
   "metadata": {},
   "outputs": [
    {
     "data": {
      "text/html": [
       "<div>\n",
       "<style scoped>\n",
       "    .dataframe tbody tr th:only-of-type {\n",
       "        vertical-align: middle;\n",
       "    }\n",
       "\n",
       "    .dataframe tbody tr th {\n",
       "        vertical-align: top;\n",
       "    }\n",
       "\n",
       "    .dataframe thead th {\n",
       "        text-align: right;\n",
       "    }\n",
       "</style>\n",
       "<table border=\"1\" class=\"dataframe\">\n",
       "  <thead>\n",
       "    <tr style=\"text-align: right;\">\n",
       "      <th></th>\n",
       "      <th>value</th>\n",
       "    </tr>\n",
       "  </thead>\n",
       "  <tbody>\n",
       "    <tr>\n",
       "      <th>count</th>\n",
       "      <td>365.0</td>\n",
       "    </tr>\n",
       "    <tr>\n",
       "      <th>mean</th>\n",
       "      <td>110355560.0</td>\n",
       "    </tr>\n",
       "    <tr>\n",
       "      <th>std</th>\n",
       "      <td>0.0</td>\n",
       "    </tr>\n",
       "    <tr>\n",
       "      <th>min</th>\n",
       "      <td>110355560.0</td>\n",
       "    </tr>\n",
       "    <tr>\n",
       "      <th>25%</th>\n",
       "      <td>110355560.0</td>\n",
       "    </tr>\n",
       "    <tr>\n",
       "      <th>50%</th>\n",
       "      <td>110355560.0</td>\n",
       "    </tr>\n",
       "    <tr>\n",
       "      <th>75%</th>\n",
       "      <td>110355560.0</td>\n",
       "    </tr>\n",
       "    <tr>\n",
       "      <th>max</th>\n",
       "      <td>110355560.0</td>\n",
       "    </tr>\n",
       "  </tbody>\n",
       "</table>\n",
       "</div>"
      ],
      "text/plain": [
       "             value\n",
       "count        365.0\n",
       "mean   110355560.0\n",
       "std            0.0\n",
       "min    110355560.0\n",
       "25%    110355560.0\n",
       "50%    110355560.0\n",
       "75%    110355560.0\n",
       "max    110355560.0"
      ]
     },
     "execution_count": 23,
     "metadata": {},
     "output_type": "execute_result"
    }
   ],
   "source": [
    "data_sample.describe()"
   ]
  },
  {
   "cell_type": "code",
   "execution_count": 24,
   "id": "30491e57",
   "metadata": {},
   "outputs": [
    {
     "data": {
      "image/png": "[encoded data removed]",
      "text/plain": [
       "<Figure size 432x288 with 1 Axes>"
      ]
     },
     "metadata": {
      "needs_background": "light"
     },
     "output_type": "display_data"
    }
   ],
   "source": [
    "plt.figure()\n",
    "data_train['value'].plot(kind = 'line')\n",
    "data_test['value'].plot(kind = 'line')\n",
    "data_sample['value'].plot(kind = 'line')\n",
    "plt.show()"
   ]
  },
  {
   "cell_type": "markdown",
   "id": "fba23f7f",
   "metadata": {},
   "source": [
    "# ARIMA"
   ]
  },
  {
   "cell_type": "code",
   "execution_count": 25,
   "id": "6f75ddee",
   "metadata": {},
   "outputs": [
    {
     "name": "stdout",
     "output_type": "stream",
     "text": [
      "Performing stepwise search to minimize aic\n",
      " ARIMA(2,0,2)(1,0,1)[4] intercept   : AIC=42026.193, Time=3.36 sec\n",
      " ARIMA(0,0,0)(0,0,0)[4] intercept   : AIC=42912.228, Time=0.06 sec\n",
      " ARIMA(1,0,0)(1,0,0)[4] intercept   : AIC=42352.663, Time=1.37 sec\n",
      " ARIMA(0,0,1)(0,0,1)[4] intercept   : AIC=42271.764, Time=0.55 sec\n",
      " ARIMA(0,0,0)(0,0,0)[4]             : AIC=45821.113, Time=0.03 sec\n",
      " ARIMA(2,0,2)(0,0,1)[4] intercept   : AIC=42138.118, Time=1.51 sec\n",
      " ARIMA(2,0,2)(1,0,0)[4] intercept   : AIC=42130.455, Time=3.42 sec\n",
      " ARIMA(2,0,2)(2,0,1)[4] intercept   : AIC=41842.461, Time=5.52 sec\n",
      " ARIMA(2,0,2)(2,0,0)[4] intercept   : AIC=42088.126, Time=4.63 sec\n",
      " ARIMA(2,0,2)(2,0,2)[4] intercept   : AIC=41829.133, Time=7.22 sec\n",
      " ARIMA(2,0,2)(1,0,2)[4] intercept   : AIC=42095.534, Time=7.74 sec\n",
      " ARIMA(1,0,2)(2,0,2)[4] intercept   : AIC=42117.810, Time=5.84 sec\n",
      " ARIMA(2,0,1)(2,0,2)[4] intercept   : AIC=42107.831, Time=5.15 sec\n",
      " ARIMA(3,0,2)(2,0,2)[4] intercept   : AIC=41841.291, Time=10.84 sec\n",
      " ARIMA(2,0,3)(2,0,2)[4] intercept   : AIC=41554.859, Time=9.68 sec\n",
      " ARIMA(2,0,3)(1,0,2)[4] intercept   : AIC=41617.900, Time=9.89 sec\n",
      " ARIMA(2,0,3)(2,0,1)[4] intercept   : AIC=41534.289, Time=8.67 sec\n",
      " ARIMA(2,0,3)(1,0,1)[4] intercept   : AIC=41537.942, Time=7.85 sec\n",
      " ARIMA(2,0,3)(2,0,0)[4] intercept   : AIC=41565.432, Time=7.38 sec\n",
      " ARIMA(2,0,3)(1,0,0)[4] intercept   : AIC=41595.444, Time=5.60 sec\n",
      " ARIMA(1,0,3)(2,0,1)[4] intercept   : AIC=42079.018, Time=8.42 sec\n",
      " ARIMA(3,0,3)(2,0,1)[4] intercept   : AIC=41426.643, Time=11.47 sec\n",
      " ARIMA(3,0,3)(1,0,1)[4] intercept   : AIC=inf, Time=8.12 sec\n",
      " ARIMA(3,0,3)(2,0,0)[4] intercept   : AIC=inf, Time=11.35 sec\n",
      " ARIMA(3,0,3)(2,0,2)[4] intercept   : AIC=41348.799, Time=10.84 sec\n",
      " ARIMA(3,0,3)(1,0,2)[4] intercept   : AIC=41718.932, Time=9.33 sec\n",
      " ARIMA(3,0,3)(2,0,2)[4]             : AIC=inf, Time=9.62 sec\n",
      "\n",
      "Best model:  ARIMA(3,0,3)(2,0,2)[4] intercept\n",
      "Total fit time: 175.536 seconds\n"
     ]
    }
   ],
   "source": [
    "# Статистическая модель ARIMA\n",
    "# обучаем модель\n",
    "arima_model=model = pm.auto_arima(data_train, seasonal = True,m = 4,test='adf',error_action='ignore',  \n",
    "                           suppress_warnings=True,\n",
    "                      stepwise=True, trace=True)"
   ]
  },
  {
   "cell_type": "code",
   "execution_count": 26,
   "id": "1072eac9",
   "metadata": {},
   "outputs": [],
   "source": [
    "prediction = pd.DataFrame(model.predict(n_periods = int(data_test.size)), data_test.index)"
   ]
  },
  {
   "cell_type": "code",
   "execution_count": 27,
   "id": "3c07af79",
   "metadata": {},
   "outputs": [],
   "source": [
    "prediction = prediction.rename(columns = {0:'value'})"
   ]
  },
  {
   "cell_type": "code",
   "execution_count": 28,
   "id": "23e19a65",
   "metadata": {},
   "outputs": [
    {
     "data": {
      "image/png": "[encoded data removed]",
      "text/plain": [
       "<Figure size 432x288 with 1 Axes>"
      ]
     },
     "metadata": {
      "needs_background": "light"
     },
     "output_type": "display_data"
    }
   ],
   "source": [
    "plt.figure()\n",
    "data_train['value'].plot(kind = 'line')\n",
    "data_test['value'].plot(kind = 'line')\n",
    "#plt.plot(data_forecaste, label = \"Prediction\")\n",
    "prediction['value'].plot(kind = 'line')\n",
    "plt.show()"
   ]
  },
  {
   "cell_type": "code",
   "execution_count": 29,
   "id": "aa2ef545",
   "metadata": {},
   "outputs": [],
   "source": [
    "def MAPE(y_true, y_pred):\n",
    "    mape = np.abs(y_pred - y_true) / np.maximum(np.abs(y_true), 1e-6)\n",
    "    mape  = np.average(mape) * 100\n",
    "    return mape"
   ]
  },
  {
   "cell_type": "code",
   "execution_count": 30,
   "id": "2bb161d8",
   "metadata": {},
   "outputs": [
    {
     "data": {
      "text/plain": [
       "39.8434923376006"
      ]
     },
     "execution_count": 30,
     "metadata": {},
     "output_type": "execute_result"
    }
   ],
   "source": [
    "MAPE(data_test, prediction)"
   ]
  },
  {
   "cell_type": "code",
   "execution_count": 31,
   "id": "fc4bc9a8",
   "metadata": {},
   "outputs": [
    {
     "data": {
      "text/plain": [
       "44.81735178659308"
      ]
     },
     "execution_count": 31,
     "metadata": {},
     "output_type": "execute_result"
    }
   ],
   "source": [
    "MAPE(data_test, data_sample)"
   ]
  },
  {
   "cell_type": "markdown",
   "id": "a9296416",
   "metadata": {},
   "source": [
    "# Cтроим датасет"
   ]
  },
  {
   "cell_type": "code",
   "execution_count": 32,
   "id": "b5ba9f0b",
   "metadata": {},
   "outputs": [],
   "source": [
    "class Stats:\n",
    "    def __init__(self, dataset):\n",
    "        self.mean = np.mean(dataset)\n",
    "        self.std = np.std(dataset)\n",
    "        self.data = (dataset - self.mean) / self.std \n",
    "\n",
    "stats = Stats(data_train)"
   ]
  },
  {
   "cell_type": "code",
   "execution_count": 33,
   "id": "56033e3c",
   "metadata": {},
   "outputs": [],
   "source": [
    "class TSDataset(Dataset):\n",
    "    \n",
    "    def __init__(self, data, seq_len):\n",
    "        super().__init__()\n",
    "        # будем обучать окнами, поэтому сделаем отступ\n",
    "        self._len = len(data) - seq_len + 1\n",
    "        # также будем нормализовывать наши таргеты  \n",
    "        self.mean = stats.mean\n",
    "        self.std = stats.std\n",
    "        self.data = (data- self.mean) / self.std \n",
    "        self.seq_len = seq_len\n",
    "        \n",
    "    def __len__(self):\n",
    "        return self._len\n",
    "    \n",
    "    def __getitem__(self, idx):\n",
    "        d = self.data[idx:idx + self.seq_len]\n",
    "        targets = []\n",
    "        days   = []\n",
    "        months = []\n",
    "        year = []\n",
    "        for row in  d.iterrows():\n",
    "            targets += [ row[1]['value'] ]\n",
    "            days += [ row[0].day ]\n",
    "            months += [row[0].month]\n",
    "            year += [row[0].year]\n",
    "            \n",
    "        return torch.LongTensor(days), \\\n",
    "               torch.LongTensor(months), \\\n",
    "               torch.LongTensor(year), \\\n",
    "               torch.FloatTensor(targets)"
   ]
  },
  {
   "cell_type": "code",
   "execution_count": 34,
   "id": "4a50a2ef",
   "metadata": {},
   "outputs": [],
   "source": [
    "ds_train = TSDataset(data_train, 22) \n",
    "ds_test  = TSDataset(data_test, 22)"
   ]
  },
  {
   "cell_type": "markdown",
   "id": "4c24fb66",
   "metadata": {},
   "source": [
    "# модель"
   ]
  },
  {
   "cell_type": "code",
   "execution_count": 35,
   "id": "88fde62e",
   "metadata": {},
   "outputs": [],
   "source": [
    "# модель\n",
    "class TimeSeriesModel(nn.Module):\n",
    "    \n",
    "        def __init__(self, hidden_size, input_sizes):            \n",
    "            super().__init__()\n",
    "            self.mon_emb = nn.Embedding(12+1, input_sizes[0])\n",
    "            self.day_emb = nn.Embedding(31+1, input_sizes[1])\n",
    "            self._rnn = nn.LSTM(input_sizes[0] + input_sizes[1]+1,  hidden_size, num_layers=2,  batch_first=True, dropout=0.5)\n",
    "            self._output = nn.Linear(hidden_size, 1)\n",
    "            \n",
    "        def forward(self, batch, ctx = None):\n",
    "            days, mons, _, targets = batch\n",
    "            mon_tensor = self.mon_emb(mons)\n",
    "            day_tensor = self.day_emb(days)\n",
    "            rnn_input  = torch.cat([mon_tensor, day_tensor], dim=-1)\n",
    "            targets = targets.unsqueeze(-1)\n",
    "            rnn_input = torch.cat([rnn_input, targets ], dim=-1)\n",
    "            rnn_input = rnn_input[:, :-1, :] if ctx is None else rnn_input \n",
    "            # возвращаем выход и контекст, в инкрементальном режиме генерации он нам потребуется\n",
    "            output, ctx = self._rnn(rnn_input, ctx)\n",
    "            output = self._output(output).squeeze()\n",
    "            return output, ctx"
   ]
  },
  {
   "cell_type": "code",
   "execution_count": 36,
   "id": "18ca8eb1",
   "metadata": {},
   "outputs": [],
   "source": [
    "dl_train = DataLoader(ds_train, 8 , True)\n",
    "dl_test = DataLoader(ds_test, 8 , False)"
   ]
  },
  {
   "cell_type": "code",
   "execution_count": 37,
   "id": "9bf195f2",
   "metadata": {},
   "outputs": [],
   "source": [
    "series_model = TimeSeriesModel(64, (4,4))"
   ]
  },
  {
   "cell_type": "code",
   "execution_count": 38,
   "id": "c7a9f7de",
   "metadata": {},
   "outputs": [],
   "source": [
    "loss = nn.L1Loss()\n",
    "optimizer = Adam(series_model.parameters(), lr=0.001, weight_decay=0.001)"
   ]
  },
  {
   "cell_type": "code",
   "execution_count": 39,
   "id": "6052b9a5",
   "metadata": {},
   "outputs": [],
   "source": [
    "# инициализируем тензорборд, для вывода графиков\n",
    "writer = SummaryWriter(log_dir='./series_runs/')"
   ]
  },
  {
   "cell_type": "markdown",
   "id": "69b7f0be",
   "metadata": {},
   "source": [
    "# Обучаем\n"
   ]
  },
  {
   "cell_type": "code",
   "execution_count": 40,
   "id": "7c36b44a",
   "metadata": {},
   "outputs": [],
   "source": [
    "global_epoch = 0\n",
    "global_iter = 0"
   ]
  },
  {
   "cell_type": "code",
   "execution_count": 41,
   "id": "4cdde3f2",
   "metadata": {},
   "outputs": [],
   "source": [
    "# функция тестирование модели\n",
    "def test_model(epoch):\n",
    "    test_iter = tqdm(dl_test)\n",
    "    sum_loss = 0\n",
    "    num_batches = 0\n",
    "    for i, batch in enumerate(test_iter):\n",
    "        # Чтобы сохранялась временная зависимость\n",
    "        # для предсказания таргет должен быть смешен на один временной шаг\n",
    "        # относительно входа модели\n",
    "        target = batch[-1][:, 1:]\n",
    "        result, _ = series_model(batch)\n",
    "        batch_loss = loss(result, target)\n",
    "        sum_loss += batch_loss\n",
    "        num_batches += 1\n",
    "    sum_loss /= num_batches\n",
    "    writer.add_scalar('Loss/val', sum_loss , epoch)\n",
    "    return sum_loss"
   ]
  },
  {
   "cell_type": "code",
   "execution_count": 42,
   "id": "b69161af",
   "metadata": {},
   "outputs": [
    {
     "name": "stderr",
     "output_type": "stream",
     "text": [
      "Epoch: 0000, Iter Loss: 0.8113: 100%|████████████████████████████████████████████████| 135/135 [00:07<00:00, 16.98it/s]\n",
      "100%|██████████████████████████████████████████████████████████████████████████████████| 43/43 [00:01<00:00, 33.40it/s]\n",
      "Epoch: 0001, Iter Loss: 0.5910: 100%|████████████████████████████████████████████████| 135/135 [00:07<00:00, 18.26it/s]\n",
      "100%|██████████████████████████████████████████████████████████████████████████████████| 43/43 [00:01<00:00, 39.79it/s]\n",
      "Epoch: 0002, Iter Loss: 0.5937: 100%|████████████████████████████████████████████████| 135/135 [00:07<00:00, 18.78it/s]\n",
      "100%|██████████████████████████████████████████████████████████████████████████████████| 43/43 [00:01<00:00, 39.46it/s]\n",
      "Epoch: 0003, Iter Loss: 0.5191: 100%|████████████████████████████████████████████████| 135/135 [00:07<00:00, 18.58it/s]\n",
      "100%|██████████████████████████████████████████████████████████████████████████████████| 43/43 [00:01<00:00, 36.06it/s]\n",
      "Epoch: 0004, Iter Loss: 0.2003: 100%|████████████████████████████████████████████████| 135/135 [00:07<00:00, 17.38it/s]\n",
      "100%|██████████████████████████████████████████████████████████████████████████████████| 43/43 [00:01<00:00, 38.93it/s]\n",
      "Epoch: 0005, Iter Loss: 0.2394: 100%|████████████████████████████████████████████████| 135/135 [00:07<00:00, 17.55it/s]\n",
      "100%|██████████████████████████████████████████████████████████████████████████████████| 43/43 [00:01<00:00, 40.03it/s]\n",
      "Epoch: 0006, Iter Loss: 0.2492: 100%|████████████████████████████████████████████████| 135/135 [00:07<00:00, 17.31it/s]\n",
      "100%|██████████████████████████████████████████████████████████████████████████████████| 43/43 [00:01<00:00, 31.81it/s]\n",
      "Epoch: 0007, Iter Loss: 0.2392: 100%|████████████████████████████████████████████████| 135/135 [00:07<00:00, 16.95it/s]\n",
      "100%|██████████████████████████████████████████████████████████████████████████████████| 43/43 [00:01<00:00, 37.43it/s]\n",
      "Epoch: 0008, Iter Loss: 0.2683: 100%|████████████████████████████████████████████████| 135/135 [00:07<00:00, 17.48it/s]\n",
      "100%|██████████████████████████████████████████████████████████████████████████████████| 43/43 [00:01<00:00, 38.90it/s]\n",
      "Epoch: 0009, Iter Loss: 0.3089: 100%|████████████████████████████████████████████████| 135/135 [00:07<00:00, 17.39it/s]\n",
      "100%|██████████████████████████████████████████████████████████████████████████████████| 43/43 [00:01<00:00, 36.29it/s]\n",
      "Epoch: 0010, Iter Loss: 0.2084: 100%|████████████████████████████████████████████████| 135/135 [00:07<00:00, 18.10it/s]\n",
      "100%|██████████████████████████████████████████████████████████████████████████████████| 43/43 [00:01<00:00, 37.95it/s]\n",
      "Epoch: 0011, Iter Loss: 0.2673: 100%|████████████████████████████████████████████████| 135/135 [00:07<00:00, 18.29it/s]\n",
      "100%|██████████████████████████████████████████████████████████████████████████████████| 43/43 [00:01<00:00, 37.50it/s]\n",
      "Epoch: 0012, Iter Loss: 0.2181: 100%|████████████████████████████████████████████████| 135/135 [00:07<00:00, 18.40it/s]\n",
      "100%|██████████████████████████████████████████████████████████████████████████████████| 43/43 [00:01<00:00, 39.79it/s]\n",
      "Epoch: 0013, Iter Loss: 0.1688: 100%|████████████████████████████████████████████████| 135/135 [00:07<00:00, 17.77it/s]\n",
      "100%|██████████████████████████████████████████████████████████████████████████████████| 43/43 [00:01<00:00, 37.37it/s]\n",
      "Epoch: 0014, Iter Loss: 0.1600: 100%|████████████████████████████████████████████████| 135/135 [00:07<00:00, 17.64it/s]\n",
      "100%|██████████████████████████████████████████████████████████████████████████████████| 43/43 [00:01<00:00, 37.60it/s]\n",
      "Epoch: 0015, Iter Loss: 0.1270: 100%|████████████████████████████████████████████████| 135/135 [00:07<00:00, 18.57it/s]\n",
      "100%|██████████████████████████████████████████████████████████████████████████████████| 43/43 [00:01<00:00, 36.30it/s]\n",
      "Epoch: 0016, Iter Loss: 0.3036: 100%|████████████████████████████████████████████████| 135/135 [00:07<00:00, 18.37it/s]\n",
      "100%|██████████████████████████████████████████████████████████████████████████████████| 43/43 [00:01<00:00, 38.73it/s]\n",
      "Epoch: 0017, Iter Loss: 0.1869: 100%|████████████████████████████████████████████████| 135/135 [00:06<00:00, 19.40it/s]\n",
      "100%|██████████████████████████████████████████████████████████████████████████████████| 43/43 [00:01<00:00, 36.58it/s]\n",
      "Epoch: 0018, Iter Loss: 0.1397: 100%|████████████████████████████████████████████████| 135/135 [00:07<00:00, 17.59it/s]\n",
      "100%|██████████████████████████████████████████████████████████████████████████████████| 43/43 [00:01<00:00, 30.14it/s]\n",
      "Epoch: 0019, Iter Loss: 0.2067: 100%|████████████████████████████████████████████████| 135/135 [00:08<00:00, 16.19it/s]\n",
      "100%|██████████████████████████████████████████████████████████████████████████████████| 43/43 [00:01<00:00, 37.10it/s]\n",
      "Epoch: 0020, Iter Loss: 0.1827: 100%|████████████████████████████████████████████████| 135/135 [00:06<00:00, 19.77it/s]\n",
      "100%|██████████████████████████████████████████████████████████████████████████████████| 43/43 [00:01<00:00, 40.78it/s]\n",
      "Epoch: 0021, Iter Loss: 0.1762: 100%|████████████████████████████████████████████████| 135/135 [00:07<00:00, 17.46it/s]\n",
      "100%|██████████████████████████████████████████████████████████████████████████████████| 43/43 [00:01<00:00, 37.81it/s]\n",
      "Epoch: 0022, Iter Loss: 0.1582: 100%|████████████████████████████████████████████████| 135/135 [00:06<00:00, 19.55it/s]\n",
      "100%|██████████████████████████████████████████████████████████████████████████████████| 43/43 [00:01<00:00, 40.25it/s]\n",
      "Epoch: 0023, Iter Loss: 0.1759: 100%|████████████████████████████████████████████████| 135/135 [00:08<00:00, 15.98it/s]\n",
      "100%|██████████████████████████████████████████████████████████████████████████████████| 43/43 [00:01<00:00, 26.37it/s]\n",
      "Epoch: 0024, Iter Loss: 0.2418: 100%|████████████████████████████████████████████████| 135/135 [00:08<00:00, 16.33it/s]\n",
      "100%|██████████████████████████████████████████████████████████████████████████████████| 43/43 [00:01<00:00, 34.36it/s]\n",
      "Epoch: 0025, Iter Loss: 0.1955: 100%|████████████████████████████████████████████████| 135/135 [00:08<00:00, 16.77it/s]\n",
      "100%|██████████████████████████████████████████████████████████████████████████████████| 43/43 [00:01<00:00, 35.41it/s]\n",
      "Epoch: 0026, Iter Loss: 0.1855: 100%|████████████████████████████████████████████████| 135/135 [00:07<00:00, 17.24it/s]\n",
      "100%|██████████████████████████████████████████████████████████████████████████████████| 43/43 [00:01<00:00, 38.77it/s]\n",
      "Epoch: 0027, Iter Loss: 0.1672: 100%|████████████████████████████████████████████████| 135/135 [00:07<00:00, 17.38it/s]\n",
      "100%|██████████████████████████████████████████████████████████████████████████████████| 43/43 [00:01<00:00, 33.77it/s]\n",
      "Epoch: 0028, Iter Loss: 0.2000: 100%|████████████████████████████████████████████████| 135/135 [00:07<00:00, 17.07it/s]\n",
      "100%|██████████████████████████████████████████████████████████████████████████████████| 43/43 [00:01<00:00, 32.48it/s]\n",
      "Epoch: 0029, Iter Loss: 0.1905: 100%|████████████████████████████████████████████████| 135/135 [00:08<00:00, 16.81it/s]\n",
      "100%|██████████████████████████████████████████████████████████████████████████████████| 43/43 [00:01<00:00, 35.46it/s]\n",
      "Epoch: 0030, Iter Loss: 0.1946: 100%|████████████████████████████████████████████████| 135/135 [00:07<00:00, 18.11it/s]\n",
      "100%|██████████████████████████████████████████████████████████████████████████████████| 43/43 [00:01<00:00, 38.40it/s]\n",
      "Epoch: 0031, Iter Loss: 0.1171: 100%|████████████████████████████████████████████████| 135/135 [00:07<00:00, 17.39it/s]\n",
      "100%|██████████████████████████████████████████████████████████████████████████████████| 43/43 [00:01<00:00, 36.80it/s]\n",
      "Epoch: 0032, Iter Loss: 0.1853: 100%|████████████████████████████████████████████████| 135/135 [00:07<00:00, 18.82it/s]\n",
      "100%|██████████████████████████████████████████████████████████████████████████████████| 43/43 [00:01<00:00, 34.60it/s]\n",
      "Epoch: 0033, Iter Loss: 0.1132: 100%|████████████████████████████████████████████████| 135/135 [00:08<00:00, 16.49it/s]\n",
      "100%|██████████████████████████████████████████████████████████████████████████████████| 43/43 [00:01<00:00, 36.24it/s]\n"
     ]
    },
    {
     "name": "stderr",
     "output_type": "stream",
     "text": [
      "Epoch: 0034, Iter Loss: 0.1236: 100%|████████████████████████████████████████████████| 135/135 [00:08<00:00, 15.28it/s]\n",
      "100%|██████████████████████████████████████████████████████████████████████████████████| 43/43 [00:01<00:00, 25.50it/s]\n",
      "Epoch: 0035, Iter Loss: 0.1601: 100%|████████████████████████████████████████████████| 135/135 [00:09<00:00, 14.72it/s]\n",
      "100%|██████████████████████████████████████████████████████████████████████████████████| 43/43 [00:01<00:00, 27.30it/s]\n",
      "Epoch: 0036, Iter Loss: 0.2480: 100%|████████████████████████████████████████████████| 135/135 [00:08<00:00, 15.60it/s]\n",
      "100%|██████████████████████████████████████████████████████████████████████████████████| 43/43 [00:01<00:00, 31.94it/s]\n",
      "Epoch: 0037, Iter Loss: 0.2006: 100%|████████████████████████████████████████████████| 135/135 [00:09<00:00, 14.54it/s]\n",
      "100%|██████████████████████████████████████████████████████████████████████████████████| 43/43 [00:01<00:00, 31.31it/s]\n",
      "Epoch: 0038, Iter Loss: 0.0921: 100%|████████████████████████████████████████████████| 135/135 [00:09<00:00, 14.78it/s]\n",
      "100%|██████████████████████████████████████████████████████████████████████████████████| 43/43 [00:01<00:00, 31.29it/s]\n",
      "Epoch: 0039, Iter Loss: 0.2582: 100%|████████████████████████████████████████████████| 135/135 [00:08<00:00, 16.52it/s]\n",
      "100%|██████████████████████████████████████████████████████████████████████████████████| 43/43 [00:01<00:00, 36.95it/s]\n",
      "Epoch: 0040, Iter Loss: 0.1871: 100%|████████████████████████████████████████████████| 135/135 [00:08<00:00, 15.49it/s]\n",
      "100%|██████████████████████████████████████████████████████████████████████████████████| 43/43 [00:01<00:00, 34.66it/s]\n",
      "Epoch: 0041, Iter Loss: 0.1264: 100%|████████████████████████████████████████████████| 135/135 [00:08<00:00, 16.31it/s]\n",
      "100%|██████████████████████████████████████████████████████████████████████████████████| 43/43 [00:01<00:00, 27.17it/s]\n",
      "Epoch: 0042, Iter Loss: 0.0899: 100%|████████████████████████████████████████████████| 135/135 [00:08<00:00, 16.79it/s]\n",
      "100%|██████████████████████████████████████████████████████████████████████████████████| 43/43 [00:01<00:00, 34.70it/s]\n",
      "Epoch: 0043, Iter Loss: 0.1574: 100%|████████████████████████████████████████████████| 135/135 [00:08<00:00, 16.75it/s]\n",
      "100%|██████████████████████████████████████████████████████████████████████████████████| 43/43 [00:01<00:00, 36.15it/s]\n",
      "Epoch: 0044, Iter Loss: 0.1478: 100%|████████████████████████████████████████████████| 135/135 [00:07<00:00, 16.98it/s]\n",
      "100%|██████████████████████████████████████████████████████████████████████████████████| 43/43 [00:01<00:00, 34.87it/s]\n",
      "Epoch: 0045, Iter Loss: 0.1675: 100%|████████████████████████████████████████████████| 135/135 [00:07<00:00, 16.91it/s]\n",
      "100%|██████████████████████████████████████████████████████████████████████████████████| 43/43 [00:01<00:00, 33.92it/s]\n",
      "Epoch: 0046, Iter Loss: 0.2044: 100%|████████████████████████████████████████████████| 135/135 [00:08<00:00, 16.33it/s]\n",
      "100%|██████████████████████████████████████████████████████████████████████████████████| 43/43 [00:01<00:00, 35.35it/s]\n",
      "Epoch: 0047, Iter Loss: 0.1501: 100%|████████████████████████████████████████████████| 135/135 [00:07<00:00, 17.26it/s]\n",
      "100%|██████████████████████████████████████████████████████████████████████████████████| 43/43 [00:01<00:00, 37.25it/s]\n",
      "Epoch: 0048, Iter Loss: 0.2601: 100%|████████████████████████████████████████████████| 135/135 [00:07<00:00, 17.45it/s]\n",
      "100%|██████████████████████████████████████████████████████████████████████████████████| 43/43 [00:01<00:00, 35.14it/s]\n",
      "Epoch: 0049, Iter Loss: 0.2030: 100%|████████████████████████████████████████████████| 135/135 [00:07<00:00, 18.83it/s]\n",
      "100%|██████████████████████████████████████████████████████████████████████████████████| 43/43 [00:01<00:00, 37.15it/s]\n"
     ]
    }
   ],
   "source": [
    "# модель обучаем в режиме teacher forcing, т.е. на вход подаем сразу всю последовательность,\n",
    "# на выходе таргет должен быть смещен на один временной шаг, чтобы правильно считался лосс\n",
    "for epoch in range(0, 50):\n",
    "    epoch_iter = tqdm(dl_train)\n",
    "    series_model.train()\n",
    "    for batch in epoch_iter:\n",
    "        optimizer.zero_grad()\n",
    "        # Чтобы сохранялась временная зависимость\n",
    "        # для предсказания таргет должен быть смешен на один временной шаг\n",
    "        # относительно входа модели\n",
    "        target = batch[-1][:,1:]\n",
    "        result, _ = series_model(batch)        \n",
    "        batch_loss = loss(result, target)\n",
    "        batch_loss.backward()\n",
    "        epoch_iter.set_description(\"Epoch: %04d, Iter Loss: %.4f\"  %(epoch, batch_loss))\n",
    "        optimizer.step()\n",
    "        writer.add_scalar('Loss/train', batch_loss , global_iter)\n",
    "        global_iter += 1\n",
    "    # тестируем модель\n",
    "    with torch.no_grad():\n",
    "        series_model.eval()\n",
    "        test_model(global_epoch)\n",
    "    global_epoch += 1"
   ]
  },
  {
   "cell_type": "code",
   "execution_count": 43,
   "id": "61d2d2fd",
   "metadata": {},
   "outputs": [],
   "source": [
    "# сохраняем модель\n",
    "torch.save(series_model.state_dict(), 'series_model1.ptx')"
   ]
  },
  {
   "cell_type": "code",
   "execution_count": 44,
   "id": "7c82b598",
   "metadata": {},
   "outputs": [
    {
     "data": {
      "text/plain": [
       "<All keys matched successfully>"
      ]
     },
     "execution_count": 44,
     "metadata": {},
     "output_type": "execute_result"
    }
   ],
   "source": [
    "# восстанавливаем модель\n",
    "series_model = TimeSeriesModel(64, (4,4))\n",
    "series_model.load_state_dict(torch.load('series_model1.ptx'))"
   ]
  },
  {
   "cell_type": "markdown",
   "id": "1d3d9551",
   "metadata": {},
   "source": [
    "# Генерируем результат"
   ]
  },
  {
   "cell_type": "code",
   "execution_count": 45,
   "id": "6f6c6259",
   "metadata": {},
   "outputs": [],
   "source": [
    "train_last_window = DataLoader(ds_train, 1 , False)\n",
    "last_window = None\n",
    "for b in train_last_window:\n",
    "    last_window = b"
   ]
  },
  {
   "cell_type": "code",
   "execution_count": 46,
   "id": "e567efed",
   "metadata": {},
   "outputs": [
    {
     "data": {
      "text/plain": [
       "[tensor([[10, 11, 12, 13, 14, 15, 16, 17, 18, 19, 20, 21, 22, 23, 24, 25, 26, 27,\n",
       "          28, 29, 30, 31]]),\n",
       " tensor([[12, 12, 12, 12, 12, 12, 12, 12, 12, 12, 12, 12, 12, 12, 12, 12, 12, 12,\n",
       "          12, 12, 12, 12]]),\n",
       " tensor([[2018, 2018, 2018, 2018, 2018, 2018, 2018, 2018, 2018, 2018, 2018, 2018,\n",
       "          2018, 2018, 2018, 2018, 2018, 2018, 2018, 2018, 2018, 2018]]),\n",
       " tensor([[ 0.0423, -0.0097, -0.1291, -0.1936, -0.4293, -1.7672, -1.7341, -0.2415,\n",
       "          -0.3038, -0.1620, -0.2428, -0.5024, -1.7640, -1.7625, -0.2683, -0.4030,\n",
       "          -0.4092, -0.4963, -0.5780, -1.0860, -2.0020, -2.2004]])]"
      ]
     },
     "execution_count": 46,
     "metadata": {},
     "output_type": "execute_result"
    }
   ],
   "source": [
    "last_window"
   ]
  },
  {
   "cell_type": "code",
   "execution_count": 47,
   "id": "e318352c",
   "metadata": {},
   "outputs": [
    {
     "name": "stdout",
     "output_type": "stream",
     "text": [
      "tensor([31]) tensor([12]) tensor([2018])\n"
     ]
    }
   ],
   "source": [
    "OUTPUT_FNAME = 'solution.csv'\n",
    "series_model.eval()\n",
    "with open(OUTPUT_FNAME, 'w') as fout: \n",
    "    with torch.no_grad():\n",
    "        fout.write(\"date,hits\\n\")\n",
    "        ds_val = TSDataset(data_test, 1)\n",
    "        output, ctx = series_model(last_window)\n",
    "        d, m, year, prev = last_window[0][0,-1:], last_window[1][0,-1:], last_window[2][0,-1:],  output[-1:]\n",
    "        print(d, m, year)\n",
    "        result = []\n",
    "        for i in range(len(ds_val)):\n",
    "            output, ctx = series_model((d.unsqueeze(0), m.unsqueeze(0), 0 , prev.unsqueeze(0)), ctx)\n",
    "            result += [float(output)]\n",
    "            t = ds_val[i]\n",
    "            d, m, year, prev = t[0], t[1], t[2], torch.FloatTensor([output])\n",
    "            print('%d-%02d-%02d,%d' %(year,m,d, float(prev)*stats.std + stats.mean), file=fout)"
   ]
  },
  {
   "cell_type": "code",
   "execution_count": 48,
   "id": "43a28f53",
   "metadata": {},
   "outputs": [
    {
     "data": {
      "text/html": [
       "<div>\n",
       "<style scoped>\n",
       "    .dataframe tbody tr th:only-of-type {\n",
       "        vertical-align: middle;\n",
       "    }\n",
       "\n",
       "    .dataframe tbody tr th {\n",
       "        vertical-align: top;\n",
       "    }\n",
       "\n",
       "    .dataframe thead th {\n",
       "        text-align: right;\n",
       "    }\n",
       "</style>\n",
       "<table border=\"1\" class=\"dataframe\">\n",
       "  <thead>\n",
       "    <tr style=\"text-align: right;\">\n",
       "      <th></th>\n",
       "      <th>value</th>\n",
       "    </tr>\n",
       "    <tr>\n",
       "      <th>date</th>\n",
       "      <th></th>\n",
       "    </tr>\n",
       "  </thead>\n",
       "  <tbody>\n",
       "    <tr>\n",
       "      <th>2019-01-01</th>\n",
       "      <td>216962283</td>\n",
       "    </tr>\n",
       "    <tr>\n",
       "      <th>2019-01-02</th>\n",
       "      <td>219833494</td>\n",
       "    </tr>\n",
       "    <tr>\n",
       "      <th>2019-01-03</th>\n",
       "      <td>214141480</td>\n",
       "    </tr>\n",
       "    <tr>\n",
       "      <th>2019-01-04</th>\n",
       "      <td>210311489</td>\n",
       "    </tr>\n",
       "    <tr>\n",
       "      <th>2019-01-05</th>\n",
       "      <td>133596816</td>\n",
       "    </tr>\n",
       "  </tbody>\n",
       "</table>\n",
       "</div>"
      ],
      "text/plain": [
       "                value\n",
       "date                 \n",
       "2019-01-01  216962283\n",
       "2019-01-02  219833494\n",
       "2019-01-03  214141480\n",
       "2019-01-04  210311489\n",
       "2019-01-05  133596816"
      ]
     },
     "execution_count": 48,
     "metadata": {},
     "output_type": "execute_result"
    }
   ],
   "source": [
    "data_submition = read_set(OUTPUT_FNAME)\n",
    "data_submition.head()"
   ]
  },
  {
   "cell_type": "code",
   "execution_count": 49,
   "id": "0512e14f",
   "metadata": {},
   "outputs": [
    {
     "data": {
      "text/plain": [
       "10.599004391661312"
      ]
     },
     "execution_count": 49,
     "metadata": {},
     "output_type": "execute_result"
    }
   ],
   "source": [
    "MAPE(data_test, data_submition)"
   ]
  },
  {
   "cell_type": "code",
   "execution_count": 50,
   "id": "f3da233a",
   "metadata": {},
   "outputs": [
    {
     "data": {
      "image/png": "[encoded data removed]",
      "text/plain": [
       "<Figure size 432x288 with 1 Axes>"
      ]
     },
     "metadata": {
      "needs_background": "light"
     },
     "output_type": "display_data"
    }
   ],
   "source": [
    "plt.figure()\n",
    "data_train['value'].plot(kind = 'line')\n",
    "data_test['value'].plot(kind = 'line')\n",
    "data_submition['value'].plot(kind = 'line')\n",
    "plt.show()"
   ]
  }
 ],
 "metadata": {
  "kernelspec": {
   "display_name": "Python 3",
   "language": "python",
   "name": "python3"
  },
  "language_info": {
   "codemirror_mode": {
    "name": "ipython",
    "version": 3
   },
   "file_extension": ".py",
   "mimetype": "text/x-python",
   "name": "python",
   "nbconvert_exporter": "python",
   "pygments_lexer": "ipython3",
   "version": "3.8.6"
  }
 },
 "nbformat": 4,
 "nbformat_minor": 5
}
